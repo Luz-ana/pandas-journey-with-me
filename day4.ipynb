{
 "cells": [
  {
   "metadata": {},
   "cell_type": "markdown",
   "source": "*using numpy we can make dataset",
   "id": "bced0984fc2abc0b"
  },
  {
   "metadata": {
    "ExecuteTime": {
     "end_time": "2025-06-30T09:18:52.001511Z",
     "start_time": "2025-06-30T09:18:51.419660Z"
    }
   },
   "cell_type": "code",
   "source": [
    "import numpy as np\n",
    "import pandas as pd"
   ],
   "id": "16db9466da22703c",
   "outputs": [],
   "execution_count": 3
  },
  {
   "metadata": {
    "ExecuteTime": {
     "end_time": "2025-06-30T09:27:44.818332Z",
     "start_time": "2025-06-30T09:27:44.808302Z"
    }
   },
   "cell_type": "code",
   "source": [
    "df = pd.DataFrame(np.array([[1,2,3],[4,5,6],[7,8,9]]),columns = ['A','B','C'])\n",
    "df\n"
   ],
   "id": "810fd9ad3fece58a",
   "outputs": [
    {
     "data": {
      "text/plain": [
       "   A  B  C\n",
       "0  1  2  3\n",
       "1  4  5  6\n",
       "2  7  8  9"
      ],
      "text/html": [
       "<div>\n",
       "<style scoped>\n",
       "    .dataframe tbody tr th:only-of-type {\n",
       "        vertical-align: middle;\n",
       "    }\n",
       "\n",
       "    .dataframe tbody tr th {\n",
       "        vertical-align: top;\n",
       "    }\n",
       "\n",
       "    .dataframe thead th {\n",
       "        text-align: right;\n",
       "    }\n",
       "</style>\n",
       "<table border=\"1\" class=\"dataframe\">\n",
       "  <thead>\n",
       "    <tr style=\"text-align: right;\">\n",
       "      <th></th>\n",
       "      <th>A</th>\n",
       "      <th>B</th>\n",
       "      <th>C</th>\n",
       "    </tr>\n",
       "  </thead>\n",
       "  <tbody>\n",
       "    <tr>\n",
       "      <th>0</th>\n",
       "      <td>1</td>\n",
       "      <td>2</td>\n",
       "      <td>3</td>\n",
       "    </tr>\n",
       "    <tr>\n",
       "      <th>1</th>\n",
       "      <td>4</td>\n",
       "      <td>5</td>\n",
       "      <td>6</td>\n",
       "    </tr>\n",
       "    <tr>\n",
       "      <th>2</th>\n",
       "      <td>7</td>\n",
       "      <td>8</td>\n",
       "      <td>9</td>\n",
       "    </tr>\n",
       "  </tbody>\n",
       "</table>\n",
       "</div>"
      ]
     },
     "execution_count": 12,
     "metadata": {},
     "output_type": "execute_result"
    }
   ],
   "execution_count": 12
  },
  {
   "metadata": {
    "ExecuteTime": {
     "end_time": "2025-06-30T09:39:16.905371Z",
     "start_time": "2025-06-30T09:39:16.897214Z"
    }
   },
   "cell_type": "code",
   "source": [
    "halka = pd.DataFrame({\"name\":[\"halka\",\"adi\",\"subi\"],\"spicy_tolerance\":[\"tolerate\",\"tooomuch\",\"verymuch\"]})\n",
    "halka"
   ],
   "id": "21d4bca530e53568",
   "outputs": [
    {
     "data": {
      "text/plain": [
       "    name spicy_tolerance\n",
       "0  halka        tolerate\n",
       "1    adi        tooomuch\n",
       "2   subi        verymuch"
      ],
      "text/html": [
       "<div>\n",
       "<style scoped>\n",
       "    .dataframe tbody tr th:only-of-type {\n",
       "        vertical-align: middle;\n",
       "    }\n",
       "\n",
       "    .dataframe tbody tr th {\n",
       "        vertical-align: top;\n",
       "    }\n",
       "\n",
       "    .dataframe thead th {\n",
       "        text-align: right;\n",
       "    }\n",
       "</style>\n",
       "<table border=\"1\" class=\"dataframe\">\n",
       "  <thead>\n",
       "    <tr style=\"text-align: right;\">\n",
       "      <th></th>\n",
       "      <th>name</th>\n",
       "      <th>spicy_tolerance</th>\n",
       "    </tr>\n",
       "  </thead>\n",
       "  <tbody>\n",
       "    <tr>\n",
       "      <th>0</th>\n",
       "      <td>halka</td>\n",
       "      <td>tolerate</td>\n",
       "    </tr>\n",
       "    <tr>\n",
       "      <th>1</th>\n",
       "      <td>adi</td>\n",
       "      <td>tooomuch</td>\n",
       "    </tr>\n",
       "    <tr>\n",
       "      <th>2</th>\n",
       "      <td>subi</td>\n",
       "      <td>verymuch</td>\n",
       "    </tr>\n",
       "  </tbody>\n",
       "</table>\n",
       "</div>"
      ]
     },
     "execution_count": 15,
     "metadata": {},
     "output_type": "execute_result"
    }
   ],
   "execution_count": 15
  },
  {
   "metadata": {
    "ExecuteTime": {
     "end_time": "2025-06-30T10:44:24.269652Z",
     "start_time": "2025-06-30T10:44:24.256032Z"
    }
   },
   "cell_type": "code",
   "source": [
    "data = np.array([(1,2,3),(4,5,6),(7,8,9)],dtype = [(\"a\",\"i4\"),(\"b\",\"i4\"),(\"c\",\"i4\")])\n",
    "d = pd.DataFrame(data,columns = [\"b\",\"c\"])\n",
    "d"
   ],
   "id": "d412c291d7cee94a",
   "outputs": [
    {
     "data": {
      "text/plain": [
       "   b  c\n",
       "0  2  3\n",
       "1  5  6\n",
       "2  8  9"
      ],
      "text/html": [
       "<div>\n",
       "<style scoped>\n",
       "    .dataframe tbody tr th:only-of-type {\n",
       "        vertical-align: middle;\n",
       "    }\n",
       "\n",
       "    .dataframe tbody tr th {\n",
       "        vertical-align: top;\n",
       "    }\n",
       "\n",
       "    .dataframe thead th {\n",
       "        text-align: right;\n",
       "    }\n",
       "</style>\n",
       "<table border=\"1\" class=\"dataframe\">\n",
       "  <thead>\n",
       "    <tr style=\"text-align: right;\">\n",
       "      <th></th>\n",
       "      <th>b</th>\n",
       "      <th>c</th>\n",
       "    </tr>\n",
       "  </thead>\n",
       "  <tbody>\n",
       "    <tr>\n",
       "      <th>0</th>\n",
       "      <td>2</td>\n",
       "      <td>3</td>\n",
       "    </tr>\n",
       "    <tr>\n",
       "      <th>1</th>\n",
       "      <td>5</td>\n",
       "      <td>6</td>\n",
       "    </tr>\n",
       "    <tr>\n",
       "      <th>2</th>\n",
       "      <td>8</td>\n",
       "      <td>9</td>\n",
       "    </tr>\n",
       "  </tbody>\n",
       "</table>\n",
       "</div>"
      ]
     },
     "execution_count": 20,
     "metadata": {},
     "output_type": "execute_result"
    }
   ],
   "execution_count": 20
  },
  {
   "metadata": {
    "ExecuteTime": {
     "end_time": "2025-06-30T11:11:42.310379Z",
     "start_time": "2025-06-30T11:11:42.296667Z"
    }
   },
   "cell_type": "code",
   "source": [
    "s = pd.Series([1,2,3],index = [\"a\",\"b\",\"c\"])\n",
    "s\n",
    "da = pd.DataFrame(s,columns = [\"a\"])\n",
    "da"
   ],
   "id": "e87d973de297a880",
   "outputs": [
    {
     "data": {
      "text/plain": [
       "   a\n",
       "a  1\n",
       "b  2\n",
       "c  3"
      ],
      "text/html": [
       "<div>\n",
       "<style scoped>\n",
       "    .dataframe tbody tr th:only-of-type {\n",
       "        vertical-align: middle;\n",
       "    }\n",
       "\n",
       "    .dataframe tbody tr th {\n",
       "        vertical-align: top;\n",
       "    }\n",
       "\n",
       "    .dataframe thead th {\n",
       "        text-align: right;\n",
       "    }\n",
       "</style>\n",
       "<table border=\"1\" class=\"dataframe\">\n",
       "  <thead>\n",
       "    <tr style=\"text-align: right;\">\n",
       "      <th></th>\n",
       "      <th>a</th>\n",
       "    </tr>\n",
       "  </thead>\n",
       "  <tbody>\n",
       "    <tr>\n",
       "      <th>a</th>\n",
       "      <td>1</td>\n",
       "    </tr>\n",
       "    <tr>\n",
       "      <th>b</th>\n",
       "      <td>2</td>\n",
       "    </tr>\n",
       "    <tr>\n",
       "      <th>c</th>\n",
       "      <td>3</td>\n",
       "    </tr>\n",
       "  </tbody>\n",
       "</table>\n",
       "</div>"
      ]
     },
     "execution_count": 28,
     "metadata": {},
     "output_type": "execute_result"
    }
   ],
   "execution_count": 28
  },
  {
   "metadata": {},
   "cell_type": "markdown",
   "source": "* we can use select_dtype() and select data accordingly",
   "id": "abc064785812e9b6"
  },
  {
   "metadata": {
    "ExecuteTime": {
     "end_time": "2025-06-30T11:28:26.275886Z",
     "start_time": "2025-06-30T11:28:26.261216Z"
    }
   },
   "cell_type": "code",
   "source": [
    "d = pd.DataFrame([True,False]*3)\n",
    "d.select_dtypes(include = \"bool\")"
   ],
   "id": "41c68c62fbea0e90",
   "outputs": [
    {
     "data": {
      "text/plain": [
       "       0\n",
       "0   True\n",
       "1  False\n",
       "2   True\n",
       "3  False\n",
       "4   True\n",
       "5  False"
      ],
      "text/html": [
       "<div>\n",
       "<style scoped>\n",
       "    .dataframe tbody tr th:only-of-type {\n",
       "        vertical-align: middle;\n",
       "    }\n",
       "\n",
       "    .dataframe tbody tr th {\n",
       "        vertical-align: top;\n",
       "    }\n",
       "\n",
       "    .dataframe thead th {\n",
       "        text-align: right;\n",
       "    }\n",
       "</style>\n",
       "<table border=\"1\" class=\"dataframe\">\n",
       "  <thead>\n",
       "    <tr style=\"text-align: right;\">\n",
       "      <th></th>\n",
       "      <th>0</th>\n",
       "    </tr>\n",
       "  </thead>\n",
       "  <tbody>\n",
       "    <tr>\n",
       "      <th>0</th>\n",
       "      <td>True</td>\n",
       "    </tr>\n",
       "    <tr>\n",
       "      <th>1</th>\n",
       "      <td>False</td>\n",
       "    </tr>\n",
       "    <tr>\n",
       "      <th>2</th>\n",
       "      <td>True</td>\n",
       "    </tr>\n",
       "    <tr>\n",
       "      <th>3</th>\n",
       "      <td>False</td>\n",
       "    </tr>\n",
       "    <tr>\n",
       "      <th>4</th>\n",
       "      <td>True</td>\n",
       "    </tr>\n",
       "    <tr>\n",
       "      <th>5</th>\n",
       "      <td>False</td>\n",
       "    </tr>\n",
       "  </tbody>\n",
       "</table>\n",
       "</div>"
      ]
     },
     "execution_count": 34,
     "metadata": {},
     "output_type": "execute_result"
    }
   ],
   "execution_count": 34
  },
  {
   "metadata": {},
   "cell_type": "markdown",
   "source": "*we have .at and .iat to get particular value from given dataframe",
   "id": "b20c954fc54f45b2"
  },
  {
   "metadata": {
    "ExecuteTime": {
     "end_time": "2025-06-30T11:32:33.175062Z",
     "start_time": "2025-06-30T11:32:33.164339Z"
    }
   },
   "cell_type": "code",
   "source": [
    "#firstky using .at\n",
    "df = pd.DataFrame(np.array([[1,2,3],[4,5,6],[7,8,9]]),index = ['a','b','c'],columns = ['x','y','c'])\n",
    "df.at['c','c']\n",
    "\n",
    "#now lets see its difference with .iat\n",
    "df.iat[0,1]"
   ],
   "id": "7981cb2376cf1bef",
   "outputs": [
    {
     "data": {
      "text/plain": [
       "2"
      ]
     },
     "execution_count": 39,
     "metadata": {},
     "output_type": "execute_result"
    }
   ],
   "execution_count": 39
  },
  {
   "metadata": {},
   "cell_type": "markdown",
   "source": "* loc to access multiple rows and columns",
   "id": "57b8c57ba84706ab"
  },
  {
   "metadata": {
    "ExecuteTime": {
     "end_time": "2025-06-30T11:41:21.341719Z",
     "start_time": "2025-06-30T11:41:21.332909Z"
    }
   },
   "cell_type": "code",
   "source": [
    "df = pd.DataFrame(np.array([[1,2,3],[4,5,6],[7,8,9]]),index = [\"hulka\",\"kumuda\",\"subiya\"])\n",
    "df.loc[\"kumuda\"]\n",
    "df.loc[\"subiya\"]>6\n"
   ],
   "id": "f680683ece80a67a",
   "outputs": [
    {
     "data": {
      "text/plain": [
       "0    True\n",
       "1    True\n",
       "2    True\n",
       "Name: subiya, dtype: bool"
      ]
     },
     "execution_count": 43,
     "metadata": {},
     "output_type": "execute_result"
    }
   ],
   "execution_count": 43
  }
 ],
 "metadata": {
  "kernelspec": {
   "display_name": "Python 3",
   "language": "python",
   "name": "python3"
  },
  "language_info": {
   "codemirror_mode": {
    "name": "ipython",
    "version": 2
   },
   "file_extension": ".py",
   "mimetype": "text/x-python",
   "name": "python",
   "nbconvert_exporter": "python",
   "pygments_lexer": "ipython2",
   "version": "2.7.6"
  }
 },
 "nbformat": 4,
 "nbformat_minor": 5
}
