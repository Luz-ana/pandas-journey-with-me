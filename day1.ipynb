{
 "cells": [
  {
   "metadata": {
    "ExecuteTime": {
     "end_time": "2025-06-26T11:56:28.686400Z",
     "start_time": "2025-06-26T11:56:28.681401Z"
    }
   },
   "cell_type": "markdown",
   "source": [
    "# This is a sample Jupyter Notebook\n",
    "\n",
    "Below is an example of a code cell. \n",
    "Put your cursor into the cell and press Shift+Enter to execute it and select the next one, or click 'Run Cell' button.\n",
    "\n",
    "Press Double Shift to search everywhere for classes, files, tool windows, actions, and settings.\n",
    "\n",
    "To learn more about Jupyter Notebooks in PyCharm, see [help](https://www.jetbrains.com/help/pycharm/ipython-notebook-support.html).\n",
    "For an overview of PyCharm, go to Help -> Learn IDE features or refer to [our documentation](https://www.jetbrains.com/help/pycharm/getting-started.html)."
   ],
   "id": "8a77807f92f26ee"
  },
  {
   "metadata": {},
   "cell_type": "markdown",
   "source": [
    "**we have pandas for operating data in a very interesting way manipulating it**\n",
    "\n",
    "#Key data structure in pandas\n",
    "1D Series\n",
    "2D DataFrame"
   ],
   "id": "28e6db15cd11a1d5"
  },
  {
   "metadata": {
    "ExecuteTime": {
     "end_time": "2025-06-26T11:58:15.830365Z",
     "start_time": "2025-06-26T11:58:15.825366Z"
    }
   },
   "cell_type": "code",
   "source": "import pandas as pd",
   "id": "e49e4ef744a55a2a",
   "outputs": [],
   "execution_count": 8
  },
  {
   "metadata": {
    "ExecuteTime": {
     "end_time": "2025-06-26T11:59:54.071249Z",
     "start_time": "2025-06-26T11:59:54.063308Z"
    }
   },
   "cell_type": "code",
   "source": "labelled_array = pd.Series([1,2,3,4,5])",
   "id": "9a8ba5d320d6b96c",
   "outputs": [],
   "execution_count": 11
  },
  {
   "metadata": {
    "ExecuteTime": {
     "end_time": "2025-06-26T12:00:11.454474Z",
     "start_time": "2025-06-26T12:00:11.445447Z"
    }
   },
   "cell_type": "code",
   "source": "labelled_array",
   "id": "d3c4460dfdf670b1",
   "outputs": [
    {
     "data": {
      "text/plain": [
       "0    1\n",
       "1    2\n",
       "2    3\n",
       "3    4\n",
       "4    5\n",
       "dtype: int64"
      ]
     },
     "execution_count": 12,
     "metadata": {},
     "output_type": "execute_result"
    }
   ],
   "execution_count": 12
  },
  {
   "metadata": {},
   "cell_type": "markdown",
   "source": "* as we can see from the output of the above par5t it just displayed my list in the labelled array form but we might be confused why not use array because here we can use array and index them by using our own name a[\"apple\"] instead of standard rule of a[9]",
   "id": "a4f4e4f899ac5e3f"
  },
  {
   "metadata": {},
   "cell_type": "markdown",
   "source": "* lets change the index as jk suga jimin rm v",
   "id": "323b99510f82a4fe"
  },
  {
   "metadata": {
    "ExecuteTime": {
     "end_time": "2025-06-26T12:24:53.333870Z",
     "start_time": "2025-06-26T12:24:53.330795Z"
    }
   },
   "cell_type": "code",
   "source": "labelled_array = pd.Series([1,2,3,4,5], index=['ram','suga','jimin','jk','v'])",
   "id": "b3df100a9a10f41d",
   "outputs": [],
   "execution_count": 20
  },
  {
   "metadata": {
    "ExecuteTime": {
     "end_time": "2025-06-26T12:24:58.405714Z",
     "start_time": "2025-06-26T12:24:58.399482Z"
    }
   },
   "cell_type": "code",
   "source": "labelled_array",
   "id": "6f6ba502c24e90f5",
   "outputs": [
    {
     "data": {
      "text/plain": [
       "ram      1\n",
       "suga     2\n",
       "jimin    3\n",
       "jk       4\n",
       "v        5\n",
       "dtype: int64"
      ]
     },
     "execution_count": 21,
     "metadata": {},
     "output_type": "execute_result"
    }
   ],
   "execution_count": 21
  },
  {
   "metadata": {
    "ExecuteTime": {
     "end_time": "2025-06-26T16:17:09.731535Z",
     "start_time": "2025-06-26T16:17:09.724497Z"
    }
   },
   "cell_type": "code",
   "source": [
    "df = pd.DataFrame({\"name\": [\"ram\",\"shyam\",\"hari\"],\"age\":[1,2,3]})\n",
    "df"
   ],
   "id": "b0fe5529744bdd46",
   "outputs": [
    {
     "data": {
      "text/plain": [
       "    name  age\n",
       "0    ram    1\n",
       "1  shyam    2\n",
       "2   hari    3"
      ],
      "text/html": [
       "<div>\n",
       "<style scoped>\n",
       "    .dataframe tbody tr th:only-of-type {\n",
       "        vertical-align: middle;\n",
       "    }\n",
       "\n",
       "    .dataframe tbody tr th {\n",
       "        vertical-align: top;\n",
       "    }\n",
       "\n",
       "    .dataframe thead th {\n",
       "        text-align: right;\n",
       "    }\n",
       "</style>\n",
       "<table border=\"1\" class=\"dataframe\">\n",
       "  <thead>\n",
       "    <tr style=\"text-align: right;\">\n",
       "      <th></th>\n",
       "      <th>name</th>\n",
       "      <th>age</th>\n",
       "    </tr>\n",
       "  </thead>\n",
       "  <tbody>\n",
       "    <tr>\n",
       "      <th>0</th>\n",
       "      <td>ram</td>\n",
       "      <td>1</td>\n",
       "    </tr>\n",
       "    <tr>\n",
       "      <th>1</th>\n",
       "      <td>shyam</td>\n",
       "      <td>2</td>\n",
       "    </tr>\n",
       "    <tr>\n",
       "      <th>2</th>\n",
       "      <td>hari</td>\n",
       "      <td>3</td>\n",
       "    </tr>\n",
       "  </tbody>\n",
       "</table>\n",
       "</div>"
      ]
     },
     "execution_count": 26,
     "metadata": {},
     "output_type": "execute_result"
    }
   ],
   "execution_count": 26
  },
  {
   "metadata": {
    "ExecuteTime": {
     "end_time": "2025-06-26T17:35:37.393819Z",
     "start_time": "2025-06-26T17:35:37.357818Z"
    }
   },
   "cell_type": "code",
   "source": [
    "df = pd.read_csv(\"data/ex.csv\",encoding='latin1')\n",
    "df\n",
    "\n"
   ],
   "id": "9b8ce06affb7af77",
   "outputs": [
    {
     "data": {
      "text/plain": [
       "                                             description  \\\n",
       "0                             Total number of businesses   \n",
       "1                             Total number of businesses   \n",
       "2                             Total number of businesses   \n",
       "3                             Total number of businesses   \n",
       "4                             Total number of businesses   \n",
       "...                                                  ...   \n",
       "17902  Measures in place to reduce its environmental ...   \n",
       "17903  Measures in place to reduce its environmental ...   \n",
       "17904  Measures in place to reduce its environmental ...   \n",
       "17905  Measures in place to reduce its environmental ...   \n",
       "17906  Measures in place to reduce its environmental ...   \n",
       "\n",
       "                               industry  level             size line_code  \\\n",
       "0                                 total      0   619 employees       NaN   \n",
       "1                                 total      0  2049 employees       NaN   \n",
       "2                                 total      0  5099 employees       NaN   \n",
       "3                                 total      0   100+ employees       NaN   \n",
       "4      Agriculture, forestry, & fishing      1            total       NaN   \n",
       "...                                 ...    ...              ...       ...   \n",
       "17902              Education & training      1            total  C4200.02   \n",
       "17903   Health care & social assistance      1            total  C4200.02   \n",
       "17904        Arts & recreation services      1            total  C4200.02   \n",
       "17905                    Other services      1            total  C4200.02   \n",
       "17906                             total      0            total  C4200.02   \n",
       "\n",
       "       value                  Unit                  Footnotes  \n",
       "0      35562  Number of businesses  1 and 2 and 3 and 4 and 6  \n",
       "1       8796  Number of businesses  1 and 2 and 3 and 4 and 6  \n",
       "2       2529  Number of businesses  1 and 2 and 3 and 4 and 6  \n",
       "3       2100  Number of businesses  1 and 2 and 3 and 4 and 6  \n",
       "4       3756  Number of businesses        1 and 2 and 3 and 6  \n",
       "...      ...                   ...                        ...  \n",
       "17902    636  Number of businesses        1 and 2 and 3 and 6  \n",
       "17903   1581  Number of businesses        1 and 2 and 3 and 6  \n",
       "17904    390  Number of businesses        1 and 2 and 3 and 6  \n",
       "17905    732  Number of businesses        1 and 2 and 3 and 6  \n",
       "17906  26589  Number of businesses        1 and 2 and 3 and 6  \n",
       "\n",
       "[17907 rows x 8 columns]"
      ],
      "text/html": [
       "<div>\n",
       "<style scoped>\n",
       "    .dataframe tbody tr th:only-of-type {\n",
       "        vertical-align: middle;\n",
       "    }\n",
       "\n",
       "    .dataframe tbody tr th {\n",
       "        vertical-align: top;\n",
       "    }\n",
       "\n",
       "    .dataframe thead th {\n",
       "        text-align: right;\n",
       "    }\n",
       "</style>\n",
       "<table border=\"1\" class=\"dataframe\">\n",
       "  <thead>\n",
       "    <tr style=\"text-align: right;\">\n",
       "      <th></th>\n",
       "      <th>description</th>\n",
       "      <th>industry</th>\n",
       "      <th>level</th>\n",
       "      <th>size</th>\n",
       "      <th>line_code</th>\n",
       "      <th>value</th>\n",
       "      <th>Unit</th>\n",
       "      <th>Footnotes</th>\n",
       "    </tr>\n",
       "  </thead>\n",
       "  <tbody>\n",
       "    <tr>\n",
       "      <th>0</th>\n",
       "      <td>Total number of businesses</td>\n",
       "      <td>total</td>\n",
       "      <td>0</td>\n",
       "      <td>619 employees</td>\n",
       "      <td>NaN</td>\n",
       "      <td>35562</td>\n",
       "      <td>Number of businesses</td>\n",
       "      <td>1 and 2 and 3 and 4 and 6</td>\n",
       "    </tr>\n",
       "    <tr>\n",
       "      <th>1</th>\n",
       "      <td>Total number of businesses</td>\n",
       "      <td>total</td>\n",
       "      <td>0</td>\n",
       "      <td>2049 employees</td>\n",
       "      <td>NaN</td>\n",
       "      <td>8796</td>\n",
       "      <td>Number of businesses</td>\n",
       "      <td>1 and 2 and 3 and 4 and 6</td>\n",
       "    </tr>\n",
       "    <tr>\n",
       "      <th>2</th>\n",
       "      <td>Total number of businesses</td>\n",
       "      <td>total</td>\n",
       "      <td>0</td>\n",
       "      <td>5099 employees</td>\n",
       "      <td>NaN</td>\n",
       "      <td>2529</td>\n",
       "      <td>Number of businesses</td>\n",
       "      <td>1 and 2 and 3 and 4 and 6</td>\n",
       "    </tr>\n",
       "    <tr>\n",
       "      <th>3</th>\n",
       "      <td>Total number of businesses</td>\n",
       "      <td>total</td>\n",
       "      <td>0</td>\n",
       "      <td>100+ employees</td>\n",
       "      <td>NaN</td>\n",
       "      <td>2100</td>\n",
       "      <td>Number of businesses</td>\n",
       "      <td>1 and 2 and 3 and 4 and 6</td>\n",
       "    </tr>\n",
       "    <tr>\n",
       "      <th>4</th>\n",
       "      <td>Total number of businesses</td>\n",
       "      <td>Agriculture, forestry, &amp; fishing</td>\n",
       "      <td>1</td>\n",
       "      <td>total</td>\n",
       "      <td>NaN</td>\n",
       "      <td>3756</td>\n",
       "      <td>Number of businesses</td>\n",
       "      <td>1 and 2 and 3 and 6</td>\n",
       "    </tr>\n",
       "    <tr>\n",
       "      <th>...</th>\n",
       "      <td>...</td>\n",
       "      <td>...</td>\n",
       "      <td>...</td>\n",
       "      <td>...</td>\n",
       "      <td>...</td>\n",
       "      <td>...</td>\n",
       "      <td>...</td>\n",
       "      <td>...</td>\n",
       "    </tr>\n",
       "    <tr>\n",
       "      <th>17902</th>\n",
       "      <td>Measures in place to reduce its environmental ...</td>\n",
       "      <td>Education &amp; training</td>\n",
       "      <td>1</td>\n",
       "      <td>total</td>\n",
       "      <td>C4200.02</td>\n",
       "      <td>636</td>\n",
       "      <td>Number of businesses</td>\n",
       "      <td>1 and 2 and 3 and 6</td>\n",
       "    </tr>\n",
       "    <tr>\n",
       "      <th>17903</th>\n",
       "      <td>Measures in place to reduce its environmental ...</td>\n",
       "      <td>Health care &amp; social assistance</td>\n",
       "      <td>1</td>\n",
       "      <td>total</td>\n",
       "      <td>C4200.02</td>\n",
       "      <td>1581</td>\n",
       "      <td>Number of businesses</td>\n",
       "      <td>1 and 2 and 3 and 6</td>\n",
       "    </tr>\n",
       "    <tr>\n",
       "      <th>17904</th>\n",
       "      <td>Measures in place to reduce its environmental ...</td>\n",
       "      <td>Arts &amp; recreation services</td>\n",
       "      <td>1</td>\n",
       "      <td>total</td>\n",
       "      <td>C4200.02</td>\n",
       "      <td>390</td>\n",
       "      <td>Number of businesses</td>\n",
       "      <td>1 and 2 and 3 and 6</td>\n",
       "    </tr>\n",
       "    <tr>\n",
       "      <th>17905</th>\n",
       "      <td>Measures in place to reduce its environmental ...</td>\n",
       "      <td>Other services</td>\n",
       "      <td>1</td>\n",
       "      <td>total</td>\n",
       "      <td>C4200.02</td>\n",
       "      <td>732</td>\n",
       "      <td>Number of businesses</td>\n",
       "      <td>1 and 2 and 3 and 6</td>\n",
       "    </tr>\n",
       "    <tr>\n",
       "      <th>17906</th>\n",
       "      <td>Measures in place to reduce its environmental ...</td>\n",
       "      <td>total</td>\n",
       "      <td>0</td>\n",
       "      <td>total</td>\n",
       "      <td>C4200.02</td>\n",
       "      <td>26589</td>\n",
       "      <td>Number of businesses</td>\n",
       "      <td>1 and 2 and 3 and 6</td>\n",
       "    </tr>\n",
       "  </tbody>\n",
       "</table>\n",
       "<p>17907 rows × 8 columns</p>\n",
       "</div>"
      ]
     },
     "execution_count": 39,
     "metadata": {},
     "output_type": "execute_result"
    }
   ],
   "execution_count": 39
  }
 ],
 "metadata": {
  "kernelspec": {
   "display_name": "Python 3",
   "language": "python",
   "name": "python3"
  },
  "language_info": {
   "codemirror_mode": {
    "name": "ipython",
    "version": 2
   },
   "file_extension": ".py",
   "mimetype": "text/x-python",
   "name": "python",
   "nbconvert_exporter": "python",
   "pygments_lexer": "ipython2",
   "version": "2.7.6"
  }
 },
 "nbformat": 4,
 "nbformat_minor": 5
}
